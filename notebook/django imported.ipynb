{
 "cells": [
  {
   "cell_type": "code",
   "execution_count": 1,
   "id": "248130c5-843e-4f16-95e1-e899ab704956",
   "metadata": {},
   "outputs": [],
   "source": [
    "import setup\n",
    "setup.init()"
   ]
  },
  {
   "cell_type": "code",
   "execution_count": 2,
   "id": "2fdc06a5-8950-4648-9f3a-f5e26b41beda",
   "metadata": {},
   "outputs": [
    {
     "data": {
      "text/plain": [
       "<QuerySet [<User: abdur-rahman-saad>, <User: saad>, <User: ARS saad>]>"
      ]
     },
     "execution_count": 2,
     "metadata": {},
     "output_type": "execute_result"
    }
   ],
   "source": [
    "from django.contrib.auth import get_user_model\n",
    "user = get_user_model()\n",
    "user.objects.all()"
   ]
  },
  {
   "cell_type": "code",
   "execution_count": 4,
   "id": "11c1ac47-56aa-4757-b17a-a7b148f4b699",
   "metadata": {},
   "outputs": [],
   "source": [
    "use_obj = user(\n",
    "    username='ARS saad'\n",
    ")\n",
    "#use_obj.save()"
   ]
  },
  {
   "cell_type": "code",
   "execution_count": 7,
   "id": "9fa0081f-e1bf-4eb4-af35-895aa227ded4",
   "metadata": {},
   "outputs": [],
   "source": [
    "from documents.models import Document\n",
    "\n",
    "doc_obj = Document(\n",
    "    owner = use_obj,\n",
    "    title = 'Hi', \n",
    "    content = 'this is ok'\n",
    ")\n",
    "#doc_obj.save()"
   ]
  },
  {
   "cell_type": "code",
   "execution_count": 6,
   "id": "1359e783-a563-45ca-a863-1f9772ec58a7",
   "metadata": {},
   "outputs": [
    {
     "data": {
      "text/plain": [
       "<Document: <Document: Hi>>"
      ]
     },
     "execution_count": 6,
     "metadata": {},
     "output_type": "execute_result"
    }
   ],
   "source": [
    "doc_obj"
   ]
  },
  {
   "cell_type": "code",
   "execution_count": 10,
   "id": "d61e86bd-7ea0-4009-b29b-7671a9ef4cc3",
   "metadata": {},
   "outputs": [
    {
     "data": {
      "text/plain": [
       "1"
      ]
     },
     "execution_count": 10,
     "metadata": {},
     "output_type": "execute_result"
    }
   ],
   "source": [
    "user_obj = user.objects.first()\n",
    "user_obj.id"
   ]
  },
  {
   "cell_type": "code",
   "execution_count": 11,
   "id": "9b7972ca-60b8-42bb-9b1b-4932605b6c59",
   "metadata": {
    "scrolled": true
   },
   "outputs": [
    {
     "name": "stdout",
     "output_type": "stream",
     "text": [
      "Help on class User in module django.contrib.auth.models:\n",
      "\n",
      "class User(AbstractUser)\n",
      " |  User(*args, **kwargs)\n",
      " |\n",
      " |  Users within the Django authentication system are represented by this\n",
      " |  model.\n",
      " |\n",
      " |  Username and password are required. Other fields are optional.\n",
      " |\n",
      " |  Method resolution order:\n",
      " |      User\n",
      " |      AbstractUser\n",
      " |      django.contrib.auth.base_user.AbstractBaseUser\n",
      " |      PermissionsMixin\n",
      " |      django.db.models.base.Model\n",
      " |      django.db.models.utils.AltersData\n",
      " |      builtins.object\n",
      " |\n",
      " |  Methods defined here:\n",
      " |\n",
      " |  date_joined = <django.db.models.query_utils.DeferredAttribute object>\n",
      " |  email = <django.db.models.query_utils.DeferredAttribute object>\n",
      " |  first_name = <django.db.models.query_utils.DeferredAttribute object>\n",
      " |  get_next_by_date_joined = _method(self, *, field=<django.db.models.fields.DateTimeField: date_joined>, is_next=True, **kwargs) from functools.partialmethod._make_unbound_method.<locals>\n",
      " |\n",
      " |  get_previous_by_date_joined = _method(self, *, field=<django.db.models.fields.DateTimeField: date_joined>, is_next=False, **kwargs) from functools.partialmethod._make_unbound_method.<locals>\n",
      " |\n",
      " |  id = <django.db.models.query_utils.DeferredAttribute object>\n",
      " |  is_active = <django.db.models.query_utils.DeferredAttribute object>\n",
      " |  is_staff = <django.db.models.query_utils.DeferredAttribute object>\n",
      " |  is_superuser = <django.db.models.query_utils.DeferredAttribute object>\n",
      " |  last_login = <django.db.models.query_utils.DeferredAttribute object>\n",
      " |  last_name = <django.db.models.query_utils.DeferredAttribute object>\n",
      " |  password = <django.db.models.query_utils.DeferredAttribute object>\n",
      " |  username = <django.db.models.query_utils.DeferredAttribute object>\n",
      " |  ----------------------------------------------------------------------\n",
      " |  Data descriptors defined here:\n",
      " |\n",
      " |  document_set\n",
      " |\n",
      " |  groups\n",
      " |\n",
      " |  logentry_set\n",
      " |\n",
      " |  user_permissions\n",
      " |\n",
      " |  ----------------------------------------------------------------------\n",
      " |  Data and other attributes defined here:\n",
      " |\n",
      " |  DoesNotExist = <class 'django.contrib.auth.models.User.DoesNotExist'>\n",
      " |\n",
      " |  MultipleObjectsReturned = <class 'django.contrib.auth.models.User.Mult...\n",
      " |\n",
      " |  ----------------------------------------------------------------------\n",
      " |  Methods inherited from AbstractUser:\n",
      " |\n",
      " |  clean(self)\n",
      " |      Hook for doing any extra model-wide validation after clean() has been\n",
      " |      called on every field by self.clean_fields. Any ValidationError raised\n",
      " |      by this method will not be associated with a particular field; it will\n",
      " |      have a special-case association with the field defined by NON_FIELD_ERRORS.\n",
      " |\n",
      " |  email_user(self, subject, message, from_email=None, **kwargs)\n",
      " |      Send an email to this user.\n",
      " |\n",
      " |  get_full_name(self)\n",
      " |      Return the first_name plus the last_name, with a space in between.\n",
      " |\n",
      " |  get_short_name(self)\n",
      " |      Return the short name for the user.\n",
      " |\n",
      " |  ----------------------------------------------------------------------\n",
      " |  Data and other attributes inherited from AbstractUser:\n",
      " |\n",
      " |  EMAIL_FIELD = 'email'\n",
      " |\n",
      " |  Meta = <class 'django.contrib.auth.models.AbstractUser.Meta'>\n",
      " |\n",
      " |  REQUIRED_FIELDS = ['email']\n",
      " |\n",
      " |  USERNAME_FIELD = 'username'\n",
      " |\n",
      " |  objects = <django.contrib.auth.models.UserManager object>\n",
      " |\n",
      " |  username_validator = <django.contrib.auth.validators.UnicodeUsernameVa...\n",
      " |\n",
      " |  ----------------------------------------------------------------------\n",
      " |  Methods inherited from django.contrib.auth.base_user.AbstractBaseUser:\n",
      " |\n",
      " |  __str__(self)\n",
      " |      Return str(self).\n",
      " |\n",
      " |  async acheck_password(self, raw_password)\n",
      " |      See check_password().\n",
      " |\n",
      " |  check_password(self, raw_password)\n",
      " |      Return a boolean of whether the raw_password was correct. Handles\n",
      " |      hashing formats behind the scenes.\n",
      " |\n",
      " |  get_session_auth_fallback_hash(self)\n",
      " |\n",
      " |  get_session_auth_hash(self)\n",
      " |      Return an HMAC of the password field.\n",
      " |\n",
      " |  get_username(self)\n",
      " |      Return the username for this User.\n",
      " |\n",
      " |  has_usable_password(self)\n",
      " |      Return False if set_unusable_password() has been called for this user.\n",
      " |\n",
      " |  natural_key(self)\n",
      " |\n",
      " |  save(self, *args, **kwargs)\n",
      " |      Save the current instance. Override this in a subclass if you want to\n",
      " |      control the saving process.\n",
      " |\n",
      " |      The 'force_insert' and 'force_update' parameters can be used to insist\n",
      " |      that the \"save\" must be an SQL insert or update (or equivalent for\n",
      " |      non-SQL backends), respectively. Normally, they should not be set.\n",
      " |\n",
      " |  set_password(self, raw_password)\n",
      " |\n",
      " |  set_unusable_password(self)\n",
      " |\n",
      " |  ----------------------------------------------------------------------\n",
      " |  Class methods inherited from django.contrib.auth.base_user.AbstractBaseUser:\n",
      " |\n",
      " |  get_email_field_name()\n",
      " |\n",
      " |  normalize_username(username)\n",
      " |\n",
      " |  ----------------------------------------------------------------------\n",
      " |  Readonly properties inherited from django.contrib.auth.base_user.AbstractBaseUser:\n",
      " |\n",
      " |  is_anonymous\n",
      " |      Always return False. This is a way of comparing User objects to\n",
      " |      anonymous users.\n",
      " |\n",
      " |  is_authenticated\n",
      " |      Always return True. This is a way to tell if the user has been\n",
      " |      authenticated in templates.\n",
      " |\n",
      " |  ----------------------------------------------------------------------\n",
      " |  Methods inherited from PermissionsMixin:\n",
      " |\n",
      " |  async aget_all_permissions(self, obj=None)\n",
      " |\n",
      " |  async aget_group_permissions(self, obj=None)\n",
      " |      See get_group_permissions()\n",
      " |\n",
      " |  async aget_user_permissions(self, obj=None)\n",
      " |      See get_user_permissions()\n",
      " |\n",
      " |  async ahas_module_perms(self, app_label)\n",
      " |      See has_module_perms()\n",
      " |\n",
      " |  async ahas_perm(self, perm, obj=None)\n",
      " |      See has_perm()\n",
      " |\n",
      " |  async ahas_perms(self, perm_list, obj=None)\n",
      " |      See has_perms()\n",
      " |\n",
      " |  get_all_permissions(self, obj=None)\n",
      " |\n",
      " |  get_group_permissions(self, obj=None)\n",
      " |      Return a list of permission strings that this user has through their\n",
      " |      groups. Query all available auth backends. If an object is passed in,\n",
      " |      return only permissions matching this object.\n",
      " |\n",
      " |  get_user_permissions(self, obj=None)\n",
      " |      Return a list of permission strings that this user has directly.\n",
      " |      Query all available auth backends. If an object is passed in,\n",
      " |      return only permissions matching this object.\n",
      " |\n",
      " |  has_module_perms(self, app_label)\n",
      " |      Return True if the user has any permissions in the given app label.\n",
      " |      Use similar logic as has_perm(), above.\n",
      " |\n",
      " |  has_perm(self, perm, obj=None)\n",
      " |      Return True if the user has the specified permission. Query all\n",
      " |      available auth backends, but return immediately if any backend returns\n",
      " |      True. Thus, a user who has permission from a single auth backend is\n",
      " |      assumed to have permission in general. If an object is provided, check\n",
      " |      permissions for that object.\n",
      " |\n",
      " |  has_perms(self, perm_list, obj=None)\n",
      " |      Return True if the user has each of the specified permissions. If\n",
      " |      object is passed, check if the user has all required perms for it.\n",
      " |\n",
      " |  ----------------------------------------------------------------------\n",
      " |  Methods inherited from django.db.models.base.Model:\n",
      " |\n",
      " |  __eq__(self, other)\n",
      " |      Return self==value.\n",
      " |\n",
      " |  __getstate__(self)\n",
      " |      Hook to allow choosing the attributes to pickle.\n",
      " |\n",
      " |  __hash__(self)\n",
      " |      Return hash(self).\n",
      " |\n",
      " |  __init__(self, *args, **kwargs)\n",
      " |      Initialize self.  See help(type(self)) for accurate signature.\n",
      " |\n",
      " |  __reduce__(self)\n",
      " |      Helper for pickle.\n",
      " |\n",
      " |  __repr__(self)\n",
      " |      Return repr(self).\n",
      " |\n",
      " |  __setstate__(self, state)\n",
      " |\n",
      " |  async adelete(self, using=None, keep_parents=False)\n",
      " |\n",
      " |  async arefresh_from_db(self, using=None, fields=None, from_queryset=None)\n",
      " |\n",
      " |  async asave(self, *args, force_insert=False, force_update=False, using=None, update_fields=None)\n",
      " |      # RemovedInDjango60Warning: When the deprecation ends, replace with:\n",
      " |      # async def asave(\n",
      " |      #   self, *, force_insert=False, force_update=False, using=None, update_fields=None,\n",
      " |      # ):\n",
      " |\n",
      " |  clean_fields(self, exclude=None)\n",
      " |      Clean all fields and raise a ValidationError containing a dict\n",
      " |      of all validation errors if any occur.\n",
      " |\n",
      " |  date_error_message(self, lookup_type, field_name, unique_for)\n",
      " |\n",
      " |  delete(self, using=None, keep_parents=False)\n",
      " |\n",
      " |  full_clean(self, exclude=None, validate_unique=True, validate_constraints=True)\n",
      " |      Call clean_fields(), clean(), validate_unique(), and\n",
      " |      validate_constraints() on the model. Raise a ValidationError for any\n",
      " |      errors that occur.\n",
      " |\n",
      " |  get_constraints(self)\n",
      " |\n",
      " |  get_deferred_fields(self)\n",
      " |      Return a set containing names of deferred fields for this instance.\n",
      " |\n",
      " |  prepare_database_save(self, field)\n",
      " |\n",
      " |  refresh_from_db(self, using=None, fields=None, from_queryset=None)\n",
      " |      Reload field values from the database.\n",
      " |\n",
      " |      By default, the reloading happens from the database this instance was\n",
      " |      loaded from, or by the read router if this instance wasn't loaded from\n",
      " |      any database. The using parameter will override the default.\n",
      " |\n",
      " |      Fields can be used to specify which fields to reload. The fields\n",
      " |      should be an iterable of field attnames. If fields is None, then\n",
      " |      all non-deferred fields are reloaded.\n",
      " |\n",
      " |      When accessing deferred fields of an instance, the deferred loading\n",
      " |      of the field will call this method.\n",
      " |\n",
      " |  save_base(self, raw=False, force_insert=False, force_update=False, using=None, update_fields=None)\n",
      " |      Handle the parts of saving which should be done only once per save,\n",
      " |      yet need to be done in raw saves, too. This includes some sanity\n",
      " |      checks and signal sending.\n",
      " |\n",
      " |      The 'raw' argument is telling save_base not to save any parent\n",
      " |      models and not to do any changes to the values before save. This\n",
      " |      is used by fixture loading.\n",
      " |\n",
      " |  serializable_value(self, field_name)\n",
      " |      Return the value of the field name for this instance. If the field is\n",
      " |      a foreign key, return the id value instead of the object. If there's\n",
      " |      no Field object with this name on the model, return the model\n",
      " |      attribute's value.\n",
      " |\n",
      " |      Used to serialize a field's value (in the serializer, or form output,\n",
      " |      for example). Normally, you would just access the attribute directly\n",
      " |      and not use this method.\n",
      " |\n",
      " |  unique_error_message(self, model_class, unique_check)\n",
      " |\n",
      " |  validate_constraints(self, exclude=None)\n",
      " |\n",
      " |  validate_unique(self, exclude=None)\n",
      " |      Check unique constraints on the model and raise ValidationError if any\n",
      " |      failed.\n",
      " |\n",
      " |  ----------------------------------------------------------------------\n",
      " |  Class methods inherited from django.db.models.base.Model:\n",
      " |\n",
      " |  check(**kwargs)\n",
      " |\n",
      " |  from_db(db, field_names, values)\n",
      " |\n",
      " |  ----------------------------------------------------------------------\n",
      " |  Data descriptors inherited from django.db.models.base.Model:\n",
      " |\n",
      " |  pk\n",
      " |\n",
      " |  ----------------------------------------------------------------------\n",
      " |  Class methods inherited from django.db.models.utils.AltersData:\n",
      " |\n",
      " |  __init_subclass__(**kwargs)\n",
      " |      This method is called when a class is subclassed.\n",
      " |\n",
      " |      The default implementation does nothing. It may be\n",
      " |      overridden to extend subclasses.\n",
      " |\n",
      " |  ----------------------------------------------------------------------\n",
      " |  Data descriptors inherited from django.db.models.utils.AltersData:\n",
      " |\n",
      " |  __dict__\n",
      " |      dictionary for instance variables\n",
      " |\n",
      " |  __weakref__\n",
      " |      list of weak references to the object\n",
      "\n"
     ]
    }
   ],
   "source": [
    "help(user)"
   ]
  },
  {
   "cell_type": "code",
   "execution_count": 18,
   "id": "62f9f128-bb29-41ff-874c-ba71c3e1c26d",
   "metadata": {},
   "outputs": [],
   "source": [
    "user_obj = user.objects.get(\n",
    "    username='ARS saad'\n",
    ")\n",
    "user_obj.is_staff = True\n",
    "user_obj.set_password(\"890iop@@\")\n",
    "user_obj.save()"
   ]
  },
  {
   "cell_type": "code",
   "execution_count": 38,
   "id": "0bbed366-e51b-4c9f-833e-85f76a70ad42",
   "metadata": {},
   "outputs": [],
   "source": [
    "viewer = user.objects.filter(is_superuser=False, is_staff=True).first()"
   ]
  },
  {
   "cell_type": "markdown",
   "id": "3b5cf5de-d8db-47d7-8711-8675e8bde6ff",
   "metadata": {},
   "source": [
    "## for permission"
   ]
  },
  {
   "cell_type": "code",
   "execution_count": 39,
   "id": "201fd05a-9ef5-4fda-a543-cb6b6e65b210",
   "metadata": {},
   "outputs": [
    {
     "name": "stdout",
     "output_type": "stream",
     "text": [
      "view_logentry\n",
      "view_group\n",
      "view_permission\n",
      "view_user\n",
      "view_contenttype\n",
      "view_document\n",
      "view_session\n"
     ]
    }
   ],
   "source": [
    "from django.contrib.auth.models import Permission\n",
    "\n",
    "perms_ps = Permission.objects.filter(codename__icontains=\"VIEW\")\n",
    "for obj in perms_ps:\n",
    "    print(obj.codename)\n",
    "    viewer.user_permissions.remove(obj)"
   ]
  },
  {
   "cell_type": "code",
   "execution_count": 40,
   "id": "acffc08e-d8a1-4b87-87a7-91afa03178bc",
   "metadata": {},
   "outputs": [],
   "source": [
    "viewer.user_permissions.set(perms_ps)"
   ]
  },
  {
   "cell_type": "markdown",
   "id": "91d017f8-d73d-4ce8-a001-2ccd35fc3056",
   "metadata": {},
   "source": [
    "## add & editing"
   ]
  },
  {
   "cell_type": "code",
   "execution_count": 37,
   "id": "2ad4813f-675b-4251-99ce-9812065e2d36",
   "metadata": {},
   "outputs": [
    {
     "data": {
      "text/plain": [
       "<QuerySet [<Permission: Documents | document | Can add document>, <Permission: Documents | document | Can change document>, <Permission: Documents | document | Can delete document>, <Permission: Documents | document | Can view document>]>"
      ]
     },
     "execution_count": 37,
     "metadata": {},
     "output_type": "execute_result"
    }
   ],
   "source": [
    "doc_perms = Permission.objects.filter(codename__icontains=\"document\")\n",
    "doc_perms"
   ]
  },
  {
   "cell_type": "code",
   "execution_count": 42,
   "id": "d6648ca8-7807-4497-9322-de9fdb46644a",
   "metadata": {},
   "outputs": [],
   "source": [
    "viewer.user_permissions.set(doc_perms | perms_ps)"
   ]
  },
  {
   "cell_type": "markdown",
   "id": "c85a532e-b02b-4038-af98-4ef4a9c176bd",
   "metadata": {},
   "source": [
    "## removing a permission "
   ]
  },
  {
   "cell_type": "code",
   "execution_count": 43,
   "id": "4649f3a9-9984-4662-81fd-a9f7042b2500",
   "metadata": {},
   "outputs": [],
   "source": [
    "new_perms = (doc_perms | perms_ps).exclude(codename__icontains='delete')\n",
    "viewer.user_permissions.set(new_perms)"
   ]
  }
 ],
 "metadata": {
  "kernelspec": {
   "display_name": "Python 3 (ipykernel)",
   "language": "python",
   "name": "python3"
  },
  "language_info": {
   "codemirror_mode": {
    "name": "ipython",
    "version": 3
   },
   "file_extension": ".py",
   "mimetype": "text/x-python",
   "name": "python",
   "nbconvert_exporter": "python",
   "pygments_lexer": "ipython3",
   "version": "3.12.3"
  }
 },
 "nbformat": 4,
 "nbformat_minor": 5
}
