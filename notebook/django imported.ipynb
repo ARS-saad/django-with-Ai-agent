{
 "cells": [
  {
   "cell_type": "code",
   "execution_count": 2,
   "id": "248130c5-843e-4f16-95e1-e899ab704956",
   "metadata": {},
   "outputs": [],
   "source": [
    "import setup\n",
    "setup.init()"
   ]
  },
  {
   "cell_type": "code",
   "execution_count": 2,
   "id": "2fdc06a5-8950-4648-9f3a-f5e26b41beda",
   "metadata": {},
   "outputs": [
    {
     "data": {
      "text/plain": [
       "<QuerySet [<User: abdur-rahman-saad>]>"
      ]
     },
     "execution_count": 2,
     "metadata": {},
     "output_type": "execute_result"
    }
   ],
   "source": [
    "from django.contrib.auth import get_user_model\n",
    "user = get_user_model()\n",
    "user.objects.all()"
   ]
  },
  {
   "cell_type": "code",
   "execution_count": 3,
   "id": "11c1ac47-56aa-4757-b17a-a7b148f4b699",
   "metadata": {},
   "outputs": [],
   "source": [
    "use_obj = user(\n",
    "    username='saad'\n",
    ")\n",
    "use_obj.save()"
   ]
  },
  {
   "cell_type": "code",
   "execution_count": 3,
   "id": "9fa0081f-e1bf-4eb4-af35-895aa227ded4",
   "metadata": {},
   "outputs": [
    {
     "ename": "NameError",
     "evalue": "name 'use_obj' is not defined",
     "output_type": "error",
     "traceback": [
      "\u001b[31m---------------------------------------------------------------------------\u001b[39m",
      "\u001b[31mNameError\u001b[39m                                 Traceback (most recent call last)",
      "\u001b[36mCell\u001b[39m\u001b[36m \u001b[39m\u001b[32mIn[3]\u001b[39m\u001b[32m, line 4\u001b[39m\n\u001b[32m      1\u001b[39m \u001b[38;5;28;01mfrom\u001b[39;00m\u001b[38;5;250m \u001b[39m\u001b[34;01mdocuments\u001b[39;00m\u001b[34;01m.\u001b[39;00m\u001b[34;01mmodels\u001b[39;00m\u001b[38;5;250m \u001b[39m\u001b[38;5;28;01mimport\u001b[39;00m Document\n\u001b[32m      3\u001b[39m doc_obj = Document(\n\u001b[32m----> \u001b[39m\u001b[32m4\u001b[39m     owner = \u001b[43muse_obj\u001b[49m,\n\u001b[32m      5\u001b[39m     title = \u001b[33m'\u001b[39m\u001b[33mHi\u001b[39m\u001b[33m'\u001b[39m, \n\u001b[32m      6\u001b[39m     content = \u001b[33m'\u001b[39m\u001b[33mthis is ok\u001b[39m\u001b[33m'\u001b[39m\n\u001b[32m      7\u001b[39m )\n\u001b[32m      8\u001b[39m doc_obj.save()\n",
      "\u001b[31mNameError\u001b[39m: name 'use_obj' is not defined"
     ]
    }
   ],
   "source": [
    "from documents.models import Document\n",
    "\n",
    "doc_obj = Document(\n",
    "    owner = use_obj,\n",
    "    title = 'Hi', \n",
    "    content = 'this is ok'\n",
    ")\n",
    "doc_obj.save()"
   ]
  }
 ],
 "metadata": {
  "kernelspec": {
   "display_name": "Python 3 (ipykernel)",
   "language": "python",
   "name": "python3"
  },
  "language_info": {
   "codemirror_mode": {
    "name": "ipython",
    "version": 3
   },
   "file_extension": ".py",
   "mimetype": "text/x-python",
   "name": "python",
   "nbconvert_exporter": "python",
   "pygments_lexer": "ipython3",
   "version": "3.12.3"
  }
 },
 "nbformat": 4,
 "nbformat_minor": 5
}
