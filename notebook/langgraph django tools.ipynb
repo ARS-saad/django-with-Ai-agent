{
 "cells": [
  {
   "cell_type": "code",
   "execution_count": 1,
   "id": "8243f400-52e3-4850-8144-d0a7069fe27a",
   "metadata": {},
   "outputs": [],
   "source": [
    "import setup\n",
    "setup.init()"
   ]
  },
  {
   "cell_type": "code",
   "execution_count": 2,
   "id": "5833a7bf-d621-4b8b-ac4a-3d517e4cea6c",
   "metadata": {},
   "outputs": [],
   "source": [
    "from ai.tools import get_document, list_documents"
   ]
  },
  {
   "cell_type": "code",
   "execution_count": 14,
   "id": "98db1cad-d2c7-4e8d-8742-639a1fcbc7ab",
   "metadata": {},
   "outputs": [],
   "source": [
    "config = {\n",
    "    'user_id': 3\n",
    "}"
   ]
  },
  {
   "cell_type": "code",
   "execution_count": 4,
   "id": "d36882fb-4e8d-4c4b-91a8-5da9e06af2cf",
   "metadata": {},
   "outputs": [
    {
     "data": {
      "text/plain": [
       "[{'id': 1, 'title': 'Title'},\n",
       " {'id': 3, 'title': 'Title'},\n",
       " {'id': 4, 'title': 'Hi there'},\n",
       " {'id': 5, 'title': 'Hi'},\n",
       " {'id': 6, 'title': 'Hi'}]"
      ]
     },
     "execution_count": 4,
     "metadata": {},
     "output_type": "execute_result"
    }
   ],
   "source": [
    "list_documents.invoke(None, config)"
   ]
  },
  {
   "cell_type": "code",
   "execution_count": 15,
   "id": "41842e4f-c130-4eda-b0dc-af19e9729caa",
   "metadata": {},
   "outputs": [
    {
     "name": "stdout",
     "output_type": "stream",
     "text": [
      "{'tags': [], 'metadata': {'user_id': 3}, 'callbacks': None, 'recursion_limit': 25, 'configurable': {'user_id': 3}}\n"
     ]
    },
    {
     "data": {
      "text/plain": [
       "{'id': 6, 'title': 'Hi'}"
      ]
     },
     "execution_count": 15,
     "metadata": {},
     "output_type": "execute_result"
    }
   ],
   "source": [
    "get_document.invoke({\"document_id\": 6}, config)"
   ]
  }
 ],
 "metadata": {
  "kernelspec": {
   "display_name": "Python 3 (ipykernel)",
   "language": "python",
   "name": "python3"
  },
  "language_info": {
   "codemirror_mode": {
    "name": "ipython",
    "version": 3
   },
   "file_extension": ".py",
   "mimetype": "text/x-python",
   "name": "python",
   "nbconvert_exporter": "python",
   "pygments_lexer": "ipython3",
   "version": "3.12.3"
  }
 },
 "nbformat": 4,
 "nbformat_minor": 5
}
